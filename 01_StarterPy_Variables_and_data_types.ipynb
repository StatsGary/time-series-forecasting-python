{
 "cells": [
  {
   "cell_type": "markdown",
   "id": "b347a1ca",
   "metadata": {},
   "source": [
    "# Variables and Data Types\n",
    "\n",
    "This section will show you different approaches to creating variables and storing them in memory, multiple variable assignment, global variables and other methods. Additionally, working with data types will be another component. "
   ]
  },
  {
   "cell_type": "markdown",
   "id": "febb1ff8",
   "metadata": {},
   "source": [
    "## Creating Variables"
   ]
  },
  {
   "cell_type": "code",
   "execution_count": 3,
   "id": "06541bbb",
   "metadata": {},
   "outputs": [],
   "source": [
    "#Creating variables\n",
    "my_int = 5\n",
    "my_string = \"Gary Hutson likes a slice of Py\"\n",
    "my_float = 5.6\n",
    "my_bool = True"
   ]
  },
  {
   "cell_type": "code",
   "execution_count": 4,
   "id": "db36ebfa",
   "metadata": {},
   "outputs": [
    {
     "name": "stdout",
     "output_type": "stream",
     "text": [
      "5\n"
     ]
    }
   ],
   "source": [
    "#Print out variable my_int\n",
    "print(my_int)"
   ]
  },
  {
   "cell_type": "code",
   "execution_count": 5,
   "id": "8726f785",
   "metadata": {},
   "outputs": [
    {
     "name": "stdout",
     "output_type": "stream",
     "text": [
      "Gary Hutson likes a slice of Py\n"
     ]
    }
   ],
   "source": [
    "print(my_string)"
   ]
  },
  {
   "cell_type": "code",
   "execution_count": 6,
   "id": "7b4e87f2",
   "metadata": {},
   "outputs": [
    {
     "name": "stdout",
     "output_type": "stream",
     "text": [
      "5.6\n"
     ]
    }
   ],
   "source": [
    "print(my_float)"
   ]
  },
  {
   "cell_type": "markdown",
   "id": "09e006f1",
   "metadata": {},
   "source": [
    "## A little on types"
   ]
  },
  {
   "cell_type": "code",
   "execution_count": 7,
   "id": "825eecbb",
   "metadata": {},
   "outputs": [
    {
     "data": {
      "text/plain": [
       "int"
      ]
     },
     "execution_count": 7,
     "metadata": {},
     "output_type": "execute_result"
    }
   ],
   "source": [
    "# Expose the types\n",
    "type(my_int)"
   ]
  },
  {
   "cell_type": "code",
   "execution_count": 8,
   "id": "53e68ed4",
   "metadata": {},
   "outputs": [
    {
     "data": {
      "text/plain": [
       "float"
      ]
     },
     "execution_count": 8,
     "metadata": {},
     "output_type": "execute_result"
    }
   ],
   "source": [
    "type(my_float)"
   ]
  },
  {
   "cell_type": "code",
   "execution_count": 9,
   "id": "358d3cf8",
   "metadata": {},
   "outputs": [
    {
     "data": {
      "text/plain": [
       "str"
      ]
     },
     "execution_count": 9,
     "metadata": {},
     "output_type": "execute_result"
    }
   ],
   "source": [
    "type(my_string)"
   ]
  },
  {
   "cell_type": "code",
   "execution_count": 10,
   "id": "ec21e725",
   "metadata": {},
   "outputs": [
    {
     "data": {
      "text/plain": [
       "bool"
      ]
     },
     "execution_count": 10,
     "metadata": {},
     "output_type": "execute_result"
    }
   ],
   "source": [
    "type(my_bool)"
   ]
  },
  {
   "cell_type": "code",
   "execution_count": 11,
   "id": "de05778e",
   "metadata": {},
   "outputs": [
    {
     "name": "stdout",
     "output_type": "stream",
     "text": [
      "3\n"
     ]
    }
   ],
   "source": [
    "# Convert from one type to another\n",
    "str_cast = str(3)\n",
    "print(str_cast)"
   ]
  },
  {
   "cell_type": "code",
   "execution_count": 12,
   "id": "03b06ee1",
   "metadata": {},
   "outputs": [],
   "source": [
    "# A note on case\n",
    "#Camel case = myVariableName = \"Gary\"\n",
    "#Pascal case = MyVariableName = \"Gary\"\n",
    "#Snake case = my_variable_name = \"Gary\"  #Similar to R's style convention"
   ]
  },
  {
   "cell_type": "markdown",
   "id": "07084e21",
   "metadata": {},
   "source": [
    "## Python and its multiple variable assignment"
   ]
  },
  {
   "cell_type": "code",
   "execution_count": 13,
   "id": "105fa934",
   "metadata": {},
   "outputs": [
    {
     "name": "stdout",
     "output_type": "stream",
     "text": [
      "R\n",
      "Python\n",
      "SQL\n"
     ]
    }
   ],
   "source": [
    "# Multiple variable assignment\n",
    "#Many values to many variables\n",
    "item1, item2, item3 = \"R\", \"Python\", \"SQL\"\n",
    "print(item1)\n",
    "print(item2)\n",
    "print(item3)\n"
   ]
  },
  {
   "cell_type": "code",
   "execution_count": 14,
   "id": "69be710c",
   "metadata": {},
   "outputs": [
    {
     "name": "stdout",
     "output_type": "stream",
     "text": [
      "Python\n",
      "Python\n",
      "Python\n"
     ]
    }
   ],
   "source": [
    "# One value to multiple variables\n",
    "code1 = code2 = code3 = \"Python\"\n",
    "print(code1)\n",
    "print(code2)\n",
    "print(code3)\n",
    "#This is not commonly used, you will see the above a lot"
   ]
  },
  {
   "cell_type": "code",
   "execution_count": 15,
   "id": "7ca4bb3d",
   "metadata": {},
   "outputs": [
    {
     "name": "stdout",
     "output_type": "stream",
     "text": [
      "4\n",
      "Mash Potato\n",
      "Burgers\n",
      "Pizza\n",
      "Cheese\n"
     ]
    }
   ],
   "source": [
    "#Unpacking a list of values\n",
    "food_items = [\"Mash Potato\", \"Burgers\", \"Pizza\", \"Cheese\"]\n",
    "print(len(food_items)) #Get the length of our list [] - lists in square brackets - we learn more about them later\n",
    "i1,i2,i3,i4 = food_items\n",
    "print(i1)\n",
    "print(i2)\n",
    "print(i3)\n",
    "print(i4)"
   ]
  },
  {
   "cell_type": "code",
   "execution_count": 31,
   "id": "e996d693",
   "metadata": {},
   "outputs": [],
   "source": [
    "x, y, z = (10, 20.5, 30)"
   ]
  },
  {
   "cell_type": "code",
   "execution_count": 38,
   "id": "e39944f4",
   "metadata": {},
   "outputs": [
    {
     "name": "stdout",
     "output_type": "stream",
     "text": [
      "10\n"
     ]
    }
   ],
   "source": [
    "print(x)"
   ]
  },
  {
   "cell_type": "code",
   "execution_count": 39,
   "id": "73e3cf67",
   "metadata": {},
   "outputs": [
    {
     "data": {
      "text/plain": [
       "int"
      ]
     },
     "execution_count": 39,
     "metadata": {},
     "output_type": "execute_result"
    }
   ],
   "source": [
    "type(x)"
   ]
  },
  {
   "cell_type": "code",
   "execution_count": 40,
   "id": "4f6d22ef",
   "metadata": {},
   "outputs": [
    {
     "data": {
      "text/plain": [
       "float"
      ]
     },
     "execution_count": 40,
     "metadata": {},
     "output_type": "execute_result"
    }
   ],
   "source": [
    "type(y)"
   ]
  },
  {
   "cell_type": "markdown",
   "id": "3800e6e3",
   "metadata": {},
   "source": [
    "## Printing out variables"
   ]
  },
  {
   "cell_type": "markdown",
   "id": "3cf17a9b",
   "metadata": {},
   "source": [
    "The print statement is used to test the variables that have been assigned and print them out to the console, or notebook (in this instance). "
   ]
  },
  {
   "cell_type": "code",
   "execution_count": 41,
   "id": "5c1b9818",
   "metadata": {},
   "outputs": [
    {
     "name": "stdout",
     "output_type": "stream",
     "text": [
      "Gary Hutson likes Python\n"
     ]
    }
   ],
   "source": [
    "name = \"Gary Hutson\"\n",
    "print(name + \" likes Python\") #Addition to concatenate a string"
   ]
  },
  {
   "cell_type": "code",
   "execution_count": 42,
   "id": "72610279",
   "metadata": {},
   "outputs": [
    {
     "name": "stdout",
     "output_type": "stream",
     "text": [
      "Gary Hutson likes Python\n"
     ]
    }
   ],
   "source": [
    "name = \"Gary Hutson\"\n",
    "interest = \" likes Python\"\n",
    "print(name + interest)"
   ]
  },
  {
   "cell_type": "code",
   "execution_count": 43,
   "id": "565f0bb3",
   "metadata": {},
   "outputs": [
    {
     "name": "stdout",
     "output_type": "stream",
     "text": [
      "Gary Hutson is: 39 years old\n"
     ]
    }
   ],
   "source": [
    "age = 39\n",
    "print(name + \" is: {} years old\".format(age))"
   ]
  }
 ],
 "metadata": {
  "kernelspec": {
   "display_name": "Python 3",
   "language": "python",
   "name": "python3"
  },
  "language_info": {
   "codemirror_mode": {
    "name": "ipython",
    "version": 3
   },
   "file_extension": ".py",
   "mimetype": "text/x-python",
   "name": "python",
   "nbconvert_exporter": "python",
   "pygments_lexer": "ipython3",
   "version": "3.9.4"
  }
 },
 "nbformat": 4,
 "nbformat_minor": 5
}
